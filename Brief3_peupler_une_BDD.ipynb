{
 "cells": [
  {
   "cell_type": "code",
   "execution_count": 5,
   "id": "e32bbc07-46a5-4491-9079-9cdcbd468feb",
   "metadata": {},
   "outputs": [
    {
     "name": "stdout",
     "output_type": "stream",
     "text": [
      "Requirement already satisfied: sqlalchemy in c:\\users\\peggy\\anaconda3\\lib\\site-packages (2.0.30)\n",
      "Requirement already satisfied: typing-extensions>=4.6.0 in c:\\users\\peggy\\anaconda3\\lib\\site-packages (from sqlalchemy) (4.11.0)\n",
      "Requirement already satisfied: greenlet!=0.4.17 in c:\\users\\peggy\\anaconda3\\lib\\site-packages (from sqlalchemy) (3.0.1)\n"
     ]
    }
   ],
   "source": [
    "!pip install sqlalchemy"
   ]
  },
  {
   "cell_type": "code",
   "execution_count": 85,
   "id": "abcf4978-5337-4fb7-b3a9-86d972108929",
   "metadata": {},
   "outputs": [
    {
     "name": "stdout",
     "output_type": "stream",
     "text": [
      "Requirement already satisfied: ipython_sql in c:\\users\\peggy\\anaconda3\\lib\\site-packages (0.5.0)\n",
      "Requirement already satisfied: prettytable in c:\\users\\peggy\\anaconda3\\lib\\site-packages (from ipython_sql) (3.11.0)\n",
      "Requirement already satisfied: ipython in c:\\users\\peggy\\anaconda3\\lib\\site-packages (from ipython_sql) (8.25.0)\n",
      "Requirement already satisfied: sqlalchemy>=2.0 in c:\\users\\peggy\\anaconda3\\lib\\site-packages (from ipython_sql) (2.0.30)\n",
      "Requirement already satisfied: sqlparse in c:\\users\\peggy\\anaconda3\\lib\\site-packages (from ipython_sql) (0.5.1)\n",
      "Requirement already satisfied: six in c:\\users\\peggy\\anaconda3\\lib\\site-packages (from ipython_sql) (1.16.0)\n",
      "Requirement already satisfied: ipython-genutils in c:\\users\\peggy\\anaconda3\\lib\\site-packages (from ipython_sql) (0.2.0)\n",
      "Requirement already satisfied: typing-extensions>=4.6.0 in c:\\users\\peggy\\anaconda3\\lib\\site-packages (from sqlalchemy>=2.0->ipython_sql) (4.11.0)\n",
      "Requirement already satisfied: greenlet!=0.4.17 in c:\\users\\peggy\\anaconda3\\lib\\site-packages (from sqlalchemy>=2.0->ipython_sql) (3.0.1)\n",
      "Requirement already satisfied: decorator in c:\\users\\peggy\\anaconda3\\lib\\site-packages (from ipython->ipython_sql) (5.1.1)\n",
      "Requirement already satisfied: jedi>=0.16 in c:\\users\\peggy\\anaconda3\\lib\\site-packages (from ipython->ipython_sql) (0.18.1)\n",
      "Requirement already satisfied: matplotlib-inline in c:\\users\\peggy\\anaconda3\\lib\\site-packages (from ipython->ipython_sql) (0.1.6)\n",
      "Requirement already satisfied: prompt-toolkit<3.1.0,>=3.0.41 in c:\\users\\peggy\\anaconda3\\lib\\site-packages (from ipython->ipython_sql) (3.0.43)\n",
      "Requirement already satisfied: pygments>=2.4.0 in c:\\users\\peggy\\anaconda3\\lib\\site-packages (from ipython->ipython_sql) (2.15.1)\n",
      "Requirement already satisfied: stack-data in c:\\users\\peggy\\anaconda3\\lib\\site-packages (from ipython->ipython_sql) (0.2.0)\n",
      "Requirement already satisfied: traitlets>=5.13.0 in c:\\users\\peggy\\anaconda3\\lib\\site-packages (from ipython->ipython_sql) (5.14.3)\n",
      "Requirement already satisfied: colorama in c:\\users\\peggy\\anaconda3\\lib\\site-packages (from ipython->ipython_sql) (0.4.6)\n",
      "Requirement already satisfied: wcwidth in c:\\users\\peggy\\anaconda3\\lib\\site-packages (from prettytable->ipython_sql) (0.2.5)\n",
      "Requirement already satisfied: parso<0.9.0,>=0.8.0 in c:\\users\\peggy\\anaconda3\\lib\\site-packages (from jedi>=0.16->ipython->ipython_sql) (0.8.3)\n",
      "Requirement already satisfied: executing in c:\\users\\peggy\\anaconda3\\lib\\site-packages (from stack-data->ipython->ipython_sql) (0.8.3)\n",
      "Requirement already satisfied: asttokens in c:\\users\\peggy\\anaconda3\\lib\\site-packages (from stack-data->ipython->ipython_sql) (2.0.5)\n",
      "Requirement already satisfied: pure-eval in c:\\users\\peggy\\anaconda3\\lib\\site-packages (from stack-data->ipython->ipython_sql) (0.2.2)\n"
     ]
    }
   ],
   "source": [
    "!pip install ipython_sql"
   ]
  },
  {
   "cell_type": "code",
   "execution_count": 1,
   "id": "d776a0e9-9f18-4b0b-b3d6-eb48f2b382a5",
   "metadata": {},
   "outputs": [],
   "source": [
    "%load_ext sql"
   ]
  },
  {
   "cell_type": "code",
   "execution_count": null,
   "id": "9daa43d7-9d17-450d-a09c-9bc4fc189750",
   "metadata": {},
   "outputs": [],
   "source": []
  },
  {
   "cell_type": "code",
   "execution_count": 3,
   "id": "382d684c-a9cd-4fdd-997c-45b2b62be18e",
   "metadata": {},
   "outputs": [],
   "source": [
    "%sql sqlite:///orders.db3"
   ]
  },
  {
   "cell_type": "code",
   "execution_count": 67,
   "id": "18763770-6186-4759-af22-5e3ace461ce3",
   "metadata": {},
   "outputs": [
    {
     "name": "stdout",
     "output_type": "stream",
     "text": [
      " * sqlite:///orders.db3\n",
      "(sqlite3.OperationalError) no such table: product\n",
      "[SQL: DROP TABLE product]\n",
      "(Background on this error at: https://sqlalche.me/e/20/e3q8)\n"
     ]
    }
   ],
   "source": []
  },
  {
   "cell_type": "code",
   "execution_count": 215,
   "id": "c4a9d3b2-22cf-479b-b541-24b97d815966",
   "metadata": {},
   "outputs": [
    {
     "name": "stdout",
     "output_type": "stream",
     "text": [
      " * sqlite:///orders.db3\n",
      "(sqlite3.OperationalError) table product already exists\n",
      "[SQL: CREATE TABLE product (\n",
      "    id int NOT NULL UNIQUE, \n",
      "    description VARCHAR(200), \n",
      "    price float, \n",
      "    PRIMARY KEY(id)\n",
      ");]\n",
      "(Background on this error at: https://sqlalche.me/e/20/e3q8)\n"
     ]
    }
   ],
   "source": [
    "%%sql\n",
    "CREATE TABLE product (\n",
    "    id int NOT NULL UNIQUE, \n",
    "    description VARCHAR(200), \n",
    "    price float, \n",
    "    PRIMARY KEY(id)\n",
    ");\n",
    "\n"
   ]
  },
  {
   "cell_type": "code",
   "execution_count": 40,
   "id": "e0787305-ac36-43e1-b2fa-8173c36f7a76",
   "metadata": {},
   "outputs": [
    {
     "name": "stdout",
     "output_type": "stream",
     "text": [
      " * sqlite:///orders.db3\n",
      "Done.\n"
     ]
    },
    {
     "data": {
      "text/html": [
       "<table>\n",
       "    <thead>\n",
       "        <tr>\n",
       "            <th>id</th>\n",
       "            <th>description</th>\n",
       "            <th>price</th>\n",
       "        </tr>\n",
       "    </thead>\n",
       "    <tbody>\n",
       "    </tbody>\n",
       "</table>"
      ],
      "text/plain": [
       "[]"
      ]
     },
     "execution_count": 40,
     "metadata": {},
     "output_type": "execute_result"
    }
   ],
   "source": [
    "%sql SELECT * FROM product"
   ]
  },
  {
   "cell_type": "code",
   "execution_count": null,
   "id": "fa2fca16-a532-4434-b763-bca232557771",
   "metadata": {},
   "outputs": [],
   "source": []
  },
  {
   "cell_type": "code",
   "execution_count": 11,
   "id": "b93e5a57-2004-43c6-bdd7-b079e2927604",
   "metadata": {},
   "outputs": [],
   "source": [
    "csv_table = []"
   ]
  },
  {
   "cell_type": "code",
   "execution_count": 97,
   "id": "0d4aaa64-a145-4638-8d8e-fb1b71983890",
   "metadata": {},
   "outputs": [
    {
     "name": "stdout",
     "output_type": "stream",
     "text": [
      "['1', '536365', '2010/12/01', '4049', 'United Kingdom', '1', '6', '756', 'GLASS STAR FROSTED T-LIGHT HOLDER', '4.25']\n",
      "['1', '536365', '2010/12/01', '4049', 'United Kingdom', '2', '2', '1606', 'SET 7 BABUSHKA NESTING BOXES', '7.65']\n",
      "['1', '536365', '2010/12/01', '4049', 'United Kingdom', '3', '6', '2650', 'WHITE METAL LANTERN', '3.39']\n",
      "['1', '536365', '2010/12/01', '4049', 'United Kingdom', '4', '6', '2803', 'RED WOOLLY HOTTIE WHITE HEART.', '3.39']\n",
      "['1', '536365', '2010/12/01', '4049', 'United Kingdom', '5', '6', '2804', 'KNITTED UNION FLAG HOT WATER BOTTLE', '3.39']\n",
      "['1', '536365', '2010/12/01', '4049', 'United Kingdom', '6', '8', '2856', 'CREAM CUPID HEARTS COAT HANGER', '2.75']\n",
      "['1', '536365', '2010/12/01', '4049', 'United Kingdom', '7', '6', '3250', 'WHITE HANGING HEART T-LIGHT HOLDER', '2.55']\n",
      "['2', '536366', '2010/12/01', '4049', 'United Kingdom', '8', '6', '1490', 'HAND WARMER RED POLKA DOT', '1.85']\n",
      "['2', '536366', '2010/12/01', '4049', 'United Kingdom', '9', '6', '1491', 'HAND WARMER UNION JACK', '1.85']\n",
      "['3', '536367', '2010/12/01', '541', 'United Kingdom', '10', '3', '772', 'HOME BUILDING BLOCK WORD', '5.95']\n",
      "['3', '536367', '2010/12/01', '541', 'United Kingdom', '11', '3', '773', 'LOVE BUILDING BLOCK WORD', '5.95']\n",
      "['3', '536367', '2010/12/01', '541', 'United Kingdom', '12', '4', '784', 'RECIPE BOX WITH METAL HEART', '7.95']\n",
      "['3', '536367', '2010/12/01', '541', 'United Kingdom', '13', '6', '1192', 'IVORY KNITTED MUG COSY ', '1.65']\n",
      "['3', '536367', '2010/12/01', '541', 'United Kingdom', '14', '2', '1480', 'BOX OF VINTAGE ALPHABET BLOCKS', '9.95']\n",
      "['3', '536367', '2010/12/01', '541', 'United Kingdom', '15', '3', '1481', 'BOX OF VINTAGE JIGSAW BLOCKS ', '4.95']\n",
      "['3', '536367', '2010/12/01', '541', 'United Kingdom', '16', '6', '1599', \"POPPY'S PLAYHOUSE BEDROOM \", '2.1']\n",
      "['3', '536367', '2010/12/01', '541', 'United Kingdom', '17', '6', '1602', \"POPPY'S PLAYHOUSE KITCHEN\", '2.1']\n",
      "['3', '536367', '2010/12/01', '541', 'United Kingdom', '18', '8', '1603', 'FELTCRAFT PRINCESS CHARLOTTE DOLL', '3.75']\n",
      "['3', '536367', '2010/12/01', '541', 'United Kingdom', '19', '4', '2629', 'DOORMAT NEW ENGLAND', '7.95']\n",
      "['3', '536367', '2010/12/01', '541', 'United Kingdom', '20', '32', '3070', 'ASSORTED COLOUR BIRD ORNAMENT', '1.69']\n",
      "['3', '536367', '2010/12/01', '541', 'United Kingdom', '21', '6', '3125', 'BOX OF 6 ASSORTED COLOUR TEASPOONS', '4.25']\n",
      "['4', '536368', '2010/12/01', '541', 'United Kingdom', '22', '3', '1759', 'YELLOW COAT RACK PARIS FASHION', '4.95']\n",
      "['4', '536368', '2010/12/01', '541', 'United Kingdom', '23', '3', '1760', 'RED COAT RACK PARIS FASHION', '4.95']\n",
      "['4', '536368', '2010/12/01', '541', 'United Kingdom', '24', '3', '1761', 'BLUE COAT RACK PARIS FASHION', '4.95']\n",
      "['4', '536368', '2010/12/01', '541', 'United Kingdom', '25', '6', '1806', 'JAM MAKING SET WITH JARS', '4.25']\n",
      "['5', '536369', '2010/12/01', '541', 'United Kingdom', '26', '3', '774', 'BATH BUILDING BLOCK WORD', '5.95']\n",
      "['6', '536370', '2010/12/01', '192', 'France', '27', '48', '1', 'INFLATABLE POLITICAL GLOBE ', '0.85']\n",
      "['6', '536370', '2010/12/01', '192', 'France', '28', '18', '317', 'SET/2 RED RETROSPOT TEA TOWELS ', '2.95']\n",
      "['6', '536370', '2010/12/01', '192', 'France', '29', '12', '753', 'PANDA AND BUNNIES STICKER SHEET', '0.85']\n",
      "['6', '536370', '2010/12/01', '192', 'France', '30', '24', '757', 'RED TOADSTOOL LED NIGHT LIGHT', '1.65']\n",
      "['6', '536370', '2010/12/01', '192', 'France', '31', '24', '793', 'VINTAGE HEADS AND TAILS CARD GAME ', '1.25']\n",
      "['6', '536370', '2010/12/01', '192', 'France', '32', '24', '855', 'STARS GIFT TAPE ', '0.65']\n",
      "['6', '536370', '2010/12/01', '192', 'France', '33', '12', '880', 'VINTAGE SEASIDE JIGSAW PUZZLES', '3.75']\n",
      "['6', '536370', '2010/12/01', '192', 'France', '34', '24', '1208', 'ROUND SNACK BOXES SET OF4 WOODLAND ', '2.95']\n",
      "['6', '536370', '2010/12/01', '192', 'France', '35', '36', '1357', 'MINI PAINT SET VINTAGE ', '0.65']\n",
      "['6', '536370', '2010/12/01', '192', 'France', '36', '24', '1402', 'MINI JIGSAW CIRCUS PARADE ', '0.42']\n",
      "['6', '536370', '2010/12/01', '192', 'France', '37', '24', '1405', 'MINI JIGSAW SPACEBOY', '0.42']\n",
      "['6', '536370', '2010/12/01', '192', 'France', '38', '24', '1487', 'SPACEBOY LUNCH BOX ', '1.95']\n",
      "['6', '536370', '2010/12/01', '192', 'France', '39', '24', '1489', 'CIRCUS PARADE LUNCH BOX ', '1.95']\n",
      "['6', '536370', '2010/12/01', '192', 'France', '40', '24', '1514', 'LUNCH BOX I LOVE LONDON', '1.95']\n",
      "['6', '536370', '2010/12/01', '192', 'France', '41', '20', '1516', 'CHARLOTTE BAG DOLLY GIRL DESIGN', '0.85']\n",
      "['6', '536370', '2010/12/01', '192', 'France', '42', '12', '1580', 'ALARM CLOCK BAKELIKE GREEN', '3.75']\n",
      "['6', '536370', '2010/12/01', '192', 'France', '43', '24', '1581', 'ALARM CLOCK BAKELIKE RED ', '3.75']\n",
      "['6', '536370', '2010/12/01', '192', 'France', '44', '24', '1582', 'ALARM CLOCK BAKELIKE PINK', '3.75']\n",
      "['6', '536370', '2010/12/01', '192', 'France', '45', '24', '1748', ' SET 2 TEA TOWELS I LOVE LONDON ', '2.95']\n",
      "['6', '536370', '2010/12/01', '192', 'France', '46', '3', '3684', 'POSTAGE', '18.0']\n",
      "['7', '536371', '2010/12/01', '1048', 'United Kingdom', '47', '80', '990', \"PAPER CHAIN KIT 50'S CHRISTMAS \", '2.55']\n",
      "['8', '536372', '2010/12/01', '4049', 'United Kingdom', '48', '6', '1490', 'HAND WARMER RED POLKA DOT', '1.85']\n",
      "['8', '536372', '2010/12/01', '4049', 'United Kingdom', '49', '6', '1491', 'HAND WARMER UNION JACK', '1.85']\n",
      "['9', '536373', '2010/12/01', '4049', 'United Kingdom', '50', '6', '143', 'EDWARDIAN PARASOL RED', '4.95']\n",
      "['9', '536373', '2010/12/01', '4049', 'United Kingdom', '51', '6', '338', 'VINTAGE BILLBOARD LOVE/HATE MUG', '1.06']\n"
     ]
    }
   ],
   "source": [
    "import csv\n",
    "with open ('orders.csv', newline='') as file:\n",
    "    lire = csv.reader(file, delimiter=';')\n",
    "    next(lire)\n",
    "    i=0\n",
    "    for ligne in lire :\n",
    "        print(ligne, end='\\n')\n",
    "        csv_table.append(ligne)\n",
    "        i+=1\n",
    "        if i >50:\n",
    "            break"
   ]
  },
  {
   "cell_type": "code",
   "execution_count": 17,
   "id": "4ea2acd0-1279-400b-89ae-05fe76b8269d",
   "metadata": {},
   "outputs": [
    {
     "data": {
      "text/plain": [
       "['2',\n",
       " '536366',\n",
       " '2010/12/01',\n",
       " '4049',\n",
       " 'United Kingdom',\n",
       " '8',\n",
       " '6',\n",
       " '1490',\n",
       " 'HAND WARMER RED POLKA DOT',\n",
       " '1.85']"
      ]
     },
     "execution_count": 17,
     "metadata": {},
     "output_type": "execute_result"
    }
   ],
   "source": [
    "csv_table[7]\n"
   ]
  },
  {
   "cell_type": "code",
   "execution_count": null,
   "id": "48d9a60f-3da2-4ece-b67e-e41bc9cf59eb",
   "metadata": {},
   "outputs": [],
   "source": []
  },
  {
   "cell_type": "code",
   "execution_count": 99,
   "id": "98c7d59c-354d-4e72-96ff-4fc1ebd0a145",
   "metadata": {},
   "outputs": [],
   "source": [
    "def product_table(csv_table):\n",
    "    product_list = []\n",
    "    for i in range(0, len(csv_table) - 1) :\n",
    "        product_list.append([csv_table[i][7], csv_table[i][8], csv_table[i][9]])\n",
    "    return product_list\n",
    "\n",
    "variable = product_table(csv_table)"
   ]
  },
  {
   "cell_type": "code",
   "execution_count": 29,
   "id": "ac10b368-1c7b-44c1-b8c1-ab06fcb4ba15",
   "metadata": {},
   "outputs": [],
   "source": [
    "import sqlite3"
   ]
  },
  {
   "cell_type": "code",
   "execution_count": 101,
   "id": "0afcd01e-cb71-4374-b64d-d6ad285d2095",
   "metadata": {},
   "outputs": [],
   "source": [
    "\n",
    "#for row in variable: \n",
    "    #print(row)\n",
    "    #%sql f'INSERT INTO product (id, description, price) VALUES ({row[0]}, {row[1]}, {row[2]})'"
   ]
  },
  {
   "cell_type": "code",
   "execution_count": 103,
   "id": "73cb1898-e131-4d10-a4fb-6fa130b3fcfd",
   "metadata": {},
   "outputs": [],
   "source": [
    "conn = sqlite3.connect('orders.db3')"
   ]
  },
  {
   "cell_type": "code",
   "execution_count": 143,
   "id": "94a5badd-89c7-4029-8ea5-42d0ec490c50",
   "metadata": {},
   "outputs": [],
   "source": [
    "sql = ''' INSERT or IGNORE INTO product (id, description, price) \n",
    "                VALUES (?, ?, ?) '''\n",
    "\n",
    "cur = conn.cursor()\n",
    "\n",
    "for product in variable:\n",
    "    cur.execute(sql, product)\n",
    "conn.commit()\n",
    "\n",
    "\n"
   ]
  },
  {
   "cell_type": "code",
   "execution_count": null,
   "id": "086d057f-de12-4722-a477-b0dede597595",
   "metadata": {},
   "outputs": [],
   "source": []
  },
  {
   "cell_type": "code",
   "execution_count": null,
   "id": "73831708-af4f-4b42-be7a-bb2ab5a5fb00",
   "metadata": {},
   "outputs": [],
   "source": []
  },
  {
   "cell_type": "code",
   "execution_count": 145,
   "id": "84cbefed-7d5d-46ad-bafe-c1e2a833d61d",
   "metadata": {},
   "outputs": [
    {
     "name": "stdout",
     "output_type": "stream",
     "text": [
      " * sqlite:///orders.db3\n",
      "Done.\n"
     ]
    },
    {
     "data": {
      "text/plain": [
       "[]"
      ]
     },
     "execution_count": 145,
     "metadata": {},
     "output_type": "execute_result"
    }
   ],
   "source": [
    "%%sql\n",
    "CREATE TABLE customer (\n",
    "    id int NOT NULL UNIQUE, \n",
    "    country VARCHAR(200),  \n",
    "    PRIMARY KEY(id),\n",
    ");"
   ]
  },
  {
   "cell_type": "code",
   "execution_count": 148,
   "id": "e526eb9b-42e3-4f37-b644-5eb0eb3ac13d",
   "metadata": {},
   "outputs": [
    {
     "name": "stdout",
     "output_type": "stream",
     "text": [
      " * sqlite:///orders.db3\n",
      "Done.\n"
     ]
    },
    {
     "data": {
      "text/html": [
       "<table>\n",
       "    <thead>\n",
       "        <tr>\n",
       "            <th>id</th>\n",
       "            <th>country</th>\n",
       "        </tr>\n",
       "    </thead>\n",
       "    <tbody>\n",
       "    </tbody>\n",
       "</table>"
      ],
      "text/plain": [
       "[]"
      ]
     },
     "execution_count": 148,
     "metadata": {},
     "output_type": "execute_result"
    }
   ],
   "source": [
    "%sql SELECT * FROM customer"
   ]
  },
  {
   "cell_type": "code",
   "execution_count": 150,
   "id": "b069b74f-2fa2-4efe-9fd1-bb772088036f",
   "metadata": {},
   "outputs": [],
   "source": [
    "def customer_table(csv_table):\n",
    "    customer_list = []\n",
    "    for i in range(0, len(csv_table) - 1) :\n",
    "        customer_list.append([csv_table[i][3], csv_table[i][4]])\n",
    "    return customer_list\n",
    "\n",
    "variable_customer = customer_table(csv_table)"
   ]
  },
  {
   "cell_type": "code",
   "execution_count": 152,
   "id": "1165a37c-d182-4fb5-8fb5-0c4f2bdea4b5",
   "metadata": {},
   "outputs": [],
   "source": [
    "sql = ''' INSERT or IGNORE INTO customer (id, country) \n",
    "                VALUES (?, ?) '''\n",
    "\n",
    "cur = conn.cursor()\n",
    "\n",
    "for customer in variable_customer:\n",
    "    cur.execute(sql, customer)\n",
    "conn.commit()"
   ]
  },
  {
   "cell_type": "code",
   "execution_count": null,
   "id": "1224ca83-b104-4bf5-a261-bd98ea0eb095",
   "metadata": {},
   "outputs": [],
   "source": []
  },
  {
   "cell_type": "code",
   "execution_count": 205,
   "id": "81437190-44bd-4fca-946e-4bfda3b9ff97",
   "metadata": {},
   "outputs": [
    {
     "name": "stdout",
     "output_type": "stream",
     "text": [
      " * sqlite:///orders.db3\n",
      "Done.\n"
     ]
    },
    {
     "data": {
      "text/plain": [
       "[]"
      ]
     },
     "execution_count": 205,
     "metadata": {},
     "output_type": "execute_result"
    }
   ],
   "source": [
    "%sql DROP TABLE customer_order"
   ]
  },
  {
   "cell_type": "code",
   "execution_count": 207,
   "id": "fcc5783e-0a7c-49a1-8f9d-3abbe6723621",
   "metadata": {},
   "outputs": [
    {
     "name": "stdout",
     "output_type": "stream",
     "text": [
      " * sqlite:///orders.db3\n",
      "Done.\n"
     ]
    },
    {
     "data": {
      "text/plain": [
       "[]"
      ]
     },
     "execution_count": 207,
     "metadata": {},
     "output_type": "execute_result"
    }
   ],
   "source": [
    "%%sql\n",
    "\n",
    "CREATE TABLE customer_order (\n",
    "    id int NOT NULL, \n",
    "    invoice_nb int NOT NULL, \n",
    "    invoice_date date NOT NULL,\n",
    "    customer_id int NOT NULL,\n",
    "    PRIMARY KEY(id), \n",
    "    FOREIGN KEY(customer_id) REFERENCES customer (id)\n",
    ");\n",
    "\n"
   ]
  },
  {
   "cell_type": "code",
   "execution_count": 209,
   "id": "9cdcf4b4-15e7-424e-8b33-25a81bb16ab8",
   "metadata": {},
   "outputs": [
    {
     "name": "stdout",
     "output_type": "stream",
     "text": [
      " * sqlite:///orders.db3\n",
      "Done.\n"
     ]
    },
    {
     "data": {
      "text/html": [
       "<table>\n",
       "    <thead>\n",
       "        <tr>\n",
       "            <th>id</th>\n",
       "            <th>invoice_nb</th>\n",
       "            <th>invoice_date</th>\n",
       "            <th>customer_id</th>\n",
       "        </tr>\n",
       "    </thead>\n",
       "    <tbody>\n",
       "    </tbody>\n",
       "</table>"
      ],
      "text/plain": [
       "[]"
      ]
     },
     "execution_count": 209,
     "metadata": {},
     "output_type": "execute_result"
    }
   ],
   "source": [
    "%sql SELECT * FROM customer_order"
   ]
  },
  {
   "cell_type": "code",
   "execution_count": 211,
   "id": "3aeac496-a457-427b-a67f-8627ab22c7f0",
   "metadata": {},
   "outputs": [],
   "source": [
    "def customer_order_table(csv_table):\n",
    "    customer_order_list = []\n",
    "    for i in range(0, len(csv_table) - 1) :\n",
    "        customer_order_list.append([csv_table[i][0], csv_table[i][1], csv_table[i][2], csv_table[i][3] ])\n",
    "    return customer_order_list\n",
    "\n",
    "variable_customer_order = customer_order_table(csv_table)"
   ]
  },
  {
   "cell_type": "code",
   "execution_count": 213,
   "id": "3cef7a2d-edd9-4747-84a9-a2a81ab77d6c",
   "metadata": {},
   "outputs": [],
   "source": [
    "sql = ''' INSERT or IGNORE INTO customer_order (id, invoice_nb, invoice_date, customer_id) \n",
    "                VALUES (?,?,?,?) '''\n",
    "\n",
    "cur = conn.cursor()\n",
    "\n",
    "for customer_order in variable_customer_order:\n",
    "    cur.execute(sql, customer_order)\n",
    "conn.commit()"
   ]
  },
  {
   "cell_type": "code",
   "execution_count": null,
   "id": "e52e919b-c894-44bc-9dfc-5c896d5dcc24",
   "metadata": {},
   "outputs": [],
   "source": []
  },
  {
   "cell_type": "code",
   "execution_count": null,
   "id": "f205b94f-9a5a-4219-8fad-a92f4083670b",
   "metadata": {},
   "outputs": [],
   "source": []
  },
  {
   "cell_type": "code",
   "execution_count": null,
   "id": "dc8405b0-2574-4f44-96ce-379016a86f4f",
   "metadata": {},
   "outputs": [],
   "source": []
  },
  {
   "cell_type": "code",
   "execution_count": 195,
   "id": "31bf9f9d-ce31-409c-a923-de4ddd4bf486",
   "metadata": {},
   "outputs": [
    {
     "name": "stdout",
     "output_type": "stream",
     "text": [
      " * sqlite:///orders.db3\n",
      "Done.\n"
     ]
    },
    {
     "data": {
      "text/plain": [
       "[]"
      ]
     },
     "execution_count": 195,
     "metadata": {},
     "output_type": "execute_result"
    }
   ],
   "source": [
    "%%sql\n",
    "CREATE TABLE order_detail (\n",
    "    id int NOT NULL, \n",
    "    quantity int NOT NULL, \n",
    "    order_id int NOT NULL,\n",
    "    product_id int NOT NULL,\n",
    "    PRIMARY KEY(id), \n",
    "    FOREIGN KEY(order_id) REFERENCES customer_order (id),\n",
    "    FOREIGN KEY(product_id) REFERENCES product (id)\n",
    ");"
   ]
  },
  {
   "cell_type": "code",
   "execution_count": 201,
   "id": "2e57f4d9-94c1-4689-868e-fcf9849e7d6a",
   "metadata": {},
   "outputs": [],
   "source": [
    "def order_detail_table(csv_table):\n",
    "    order_detail_list = []\n",
    "    for i in range(0, len(csv_table) - 1) :\n",
    "        order_detail_list.append([csv_table[i][5], csv_table[i][6], csv_table[i][0], csv_table[i][7] ])\n",
    "    return order_detail_list\n",
    "\n",
    "variable_order_detail = order_detail_table(csv_table)"
   ]
  },
  {
   "cell_type": "code",
   "execution_count": 203,
   "id": "89e3b6a4-71b8-4de1-bda0-0a292554dbac",
   "metadata": {},
   "outputs": [],
   "source": [
    "sql = ''' INSERT or IGNORE INTO order_detail (id, quantity, order_id, product_id) \n",
    "                VALUES (?,?,?,?) '''\n",
    "\n",
    "cur = conn.cursor()\n",
    "\n",
    "for order_detail in variable_order_detail:\n",
    "    cur.execute(sql, order_detail)\n",
    "conn.commit()"
   ]
  },
  {
   "cell_type": "code",
   "execution_count": null,
   "id": "5d09ffdd-ae69-4784-89ab-24e146360b04",
   "metadata": {},
   "outputs": [],
   "source": []
  },
  {
   "cell_type": "code",
   "execution_count": null,
   "id": "7a49461f-1051-461a-9ed3-c79b6889aa3e",
   "metadata": {},
   "outputs": [],
   "source": []
  },
  {
   "cell_type": "code",
   "execution_count": null,
   "id": "0a3da8e5-d000-40b4-924b-1f9d5cbac007",
   "metadata": {},
   "outputs": [],
   "source": [
    "# CORRECTION"
   ]
  },
  {
   "cell_type": "code",
   "execution_count": null,
   "id": "7311f34b-bf0b-4855-aa6a-0371af552c41",
   "metadata": {},
   "outputs": [],
   "source": [
    "tables = [\"customer\", \"product\", \"order_detail\", \"customer_order\"]\n",
    "\n",
    "table_columns = {\n",
    "    \"customer\": [\"id\", \"country\"],\n",
    "    \"product\" :[\"id\", \"description\", \"price\"],\n",
    "    \"customer_order\" :[\"id\", \"invoice_nb\", \"invoice_date, \"customer_id\"]\n",
    "    \"order_detail\":[\"id\", \"quantity\", \"order_id\", \"product_id\"]\n",
    "}"
   ]
  },
  {
   "cell_type": "code",
   "execution_count": null,
   "id": "4b52192a-3ba2-407f-8cee-7f5d02494f57",
   "metadata": {},
   "outputs": [],
   "source": []
  }
 ],
 "metadata": {
  "kernelspec": {
   "display_name": "Python 3 (ipykernel)",
   "language": "python",
   "name": "python3"
  },
  "language_info": {
   "codemirror_mode": {
    "name": "ipython",
    "version": 3
   },
   "file_extension": ".py",
   "mimetype": "text/x-python",
   "name": "python",
   "nbconvert_exporter": "python",
   "pygments_lexer": "ipython3",
   "version": "3.12.4"
  }
 },
 "nbformat": 4,
 "nbformat_minor": 5
}
